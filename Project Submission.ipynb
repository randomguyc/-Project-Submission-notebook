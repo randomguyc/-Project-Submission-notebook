{
 "cells": [
  {
   "cell_type": "markdown",
   "id": "ed175a82",
   "metadata": {},
   "source": [
    "# Project Submission\n",
    "\n",
    "**Please use this notebook for your submission.**\n",
    "\n",
    "Make sure to fill out all the required fields and to answer all the questions.\n",
    "\n",
    "You will be working with a dataset that includes the results of international football matches from 1872 to 2024. The matches range from FIFA World Cups to regular friendly matches. \n",
    "\n",
    "At the end of this project, you will have answered the following questions:\n",
    "\n",
    "1. What is the average number of goals for the home team? \n",
    "2. What is the average number of goals for the away team? \n",
    "3. What is the country with the highest overall home score?\n",
    "4. What are the top 3 type of tournaments?\n",
    "5. Which country has the highest overall FIFA World Cup goals?\n",
    "\n",
    "\n",
    "**Submission Requirements:**\n",
    "\n",
    "- Make sure that you run all cells with code in your notebook before submitting.\n",
    "- You can add additional cells of code if you want, but make sure to clean up your notebook, and only leave the code required to answer the questions.\n",
    "\n",
    "\n",
    "_Original Data Source: [Kaggle](https://www.kaggle.com/datasets/martj42/international-football-results-from-1872-to-2017/data)_"
   ]
  },
  {
   "cell_type": "markdown",
   "id": "43e336b8",
   "metadata": {},
   "source": [
    "## Step 1: Getting Started\n",
    "\n",
    "You will mainly work with a Python library called Pandas. Pandas is a powerful library that allows us to manipulate data. In order to use Pandas, you first have to import it. "
   ]
  },
  {
   "cell_type": "code",
   "execution_count": 1,
   "id": "3033fd44",
   "metadata": {},
   "outputs": [],
   "source": [
    "import pandas as pd"
   ]
  },
  {
   "cell_type": "markdown",
   "id": "f7e3b7f7",
   "metadata": {},
   "source": [
    "## Step 2: Loading and Exporing the Data\n",
    "\n",
    "You can use Pandas to explore and manipulate the _results.csv_ file. \n",
    "You first have to load the csv file into a Pandas dataframe, so you can then analyize the data. \n",
    "\n",
    "When using `pd.read_csv()`, make sure you inlcude the correct path to the csv file, depending on where you saved it when you downloaded it."
   ]
  },
  {
   "cell_type": "code",
   "execution_count": 4,
   "id": "2c9de780",
   "metadata": {},
   "outputs": [],
   "source": [
    "df = pd.read_csv('results.csv')"
   ]
  },
  {
   "cell_type": "code",
   "execution_count": 6,
   "id": "bb2a11f0",
   "metadata": {},
   "outputs": [
    {
     "name": "stdout",
     "output_type": "stream",
     "text": [
      "<class 'pandas.core.frame.DataFrame'>\n",
      "RangeIndex: 45315 entries, 0 to 45314\n",
      "Data columns (total 9 columns):\n",
      " #   Column      Non-Null Count  Dtype \n",
      "---  ------      --------------  ----- \n",
      " 0   date        45315 non-null  object\n",
      " 1   home_team   45315 non-null  object\n",
      " 2   away_team   45315 non-null  object\n",
      " 3   home_score  45315 non-null  int64 \n",
      " 4   away_score  45315 non-null  int64 \n",
      " 5   tournament  45315 non-null  object\n",
      " 6   city        45315 non-null  object\n",
      " 7   country     45315 non-null  object\n",
      " 8   neutral     45315 non-null  bool  \n",
      "dtypes: bool(1), int64(2), object(6)\n",
      "memory usage: 2.8+ MB\n"
     ]
    }
   ],
   "source": [
    "df.info()"
   ]
  },
  {
   "cell_type": "markdown",
   "id": "6a2aa881",
   "metadata": {},
   "source": [
    "## Step 3: Data Analysis"
   ]
  },
  {
   "cell_type": "markdown",
   "id": "98b9d5dd",
   "metadata": {},
   "source": [
    "### Q1: What is the average number of goals for the home team?\n",
    "\n",
    "Hint: You can call the `mean()` method on the _'home_score'_ column."
   ]
  },
  {
   "cell_type": "code",
   "execution_count": 10,
   "id": "c2c5b5ea",
   "metadata": {},
   "outputs": [
    {
     "data": {
      "text/plain": [
       "1.7393136930376256"
      ]
     },
     "execution_count": 10,
     "metadata": {},
     "output_type": "execute_result"
    }
   ],
   "source": [
    "df['home_score'].mean()"
   ]
  },
  {
   "cell_type": "markdown",
   "id": "ce194e01",
   "metadata": {},
   "source": [
    "### Q2: What is the average number of goals for the away team?\n",
    "\n",
    "Hint: You can call the `mean()` method on the _'away_score'_ column."
   ]
  },
  {
   "cell_type": "code",
   "execution_count": 12,
   "id": "4fb43467",
   "metadata": {},
   "outputs": [
    {
     "data": {
      "text/plain": [
       "1.1782412004854905"
      ]
     },
     "execution_count": 12,
     "metadata": {},
     "output_type": "execute_result"
    }
   ],
   "source": [
    "df['away_score'].mean()"
   ]
  },
  {
   "cell_type": "markdown",
   "id": "c6044d75",
   "metadata": {},
   "source": [
    "### Q3: What is the country with the highest overall home score?\n",
    "\n",
    "Hint: You will need to group the data by country, then get the sum of home scores for each country. You can use the `idxmax()` function to find the index(country) with the highest sum. "
   ]
  },
  {
   "cell_type": "code",
   "execution_count": 14,
   "id": "e5d93b04",
   "metadata": {},
   "outputs": [
    {
     "data": {
      "text/plain": [
       "'Brazil'"
      ]
     },
     "execution_count": 14,
     "metadata": {},
     "output_type": "execute_result"
    }
   ],
   "source": [
    "df.groupby(['home_team'])['home_score'].sum().idxmax()"
   ]
  },
  {
   "cell_type": "markdown",
   "id": "47e0f275",
   "metadata": {},
   "source": [
    "### Q4: What are the top 3 type of tournaments?\n",
    "\n",
    "Hint: You can use the `value_counts()` method to count the occurences of each unique value in the _'tournament'_ column."
   ]
  },
  {
   "cell_type": "code",
   "execution_count": 16,
   "id": "2d65e4e3",
   "metadata": {},
   "outputs": [
    {
     "data": {
      "text/plain": [
       "tournament\n",
       "Friendly                        17773\n",
       "FIFA World Cup qualification     8016\n",
       "UEFA Euro qualification          2815\n",
       "Name: count, dtype: int64"
      ]
     },
     "execution_count": 16,
     "metadata": {},
     "output_type": "execute_result"
    }
   ],
   "source": [
    "df['tournament'].value_counts().head(3)"
   ]
  },
  {
   "cell_type": "markdown",
   "id": "0bdc8158",
   "metadata": {},
   "source": [
    "### Q5: Which country has the highest overall FIFA World Cup goals?\n",
    "\n",
    "To answer this question, consider breaking down your solution into 3 steps.\n",
    "\n",
    "**5.1 Create a new dataframe (fifa_df) that only contains rows where the \"tournament\" column == 'FIFA World Cup'.**"
   ]
  },
  {
   "cell_type": "code",
   "execution_count": 72,
   "id": "db30530c",
   "metadata": {},
   "outputs": [],
   "source": [
    "fifa_df=df.loc[df['tournament'] == 'FIFA World Cup']"
   ]
  },
  {
   "cell_type": "markdown",
   "id": "c06b0011",
   "metadata": {},
   "source": [
    "**5.2 In your new fifa_df, create a new _'total_score'_ column that sums _'home_score'_ + _'away_score'_ for each row.**\n",
    "\n",
    "PS. If you get a \"SettingWithCopyWarning\", please ignore it."
   ]
  },
  {
   "cell_type": "code",
   "execution_count": 114,
   "id": "8dd33359",
   "metadata": {},
   "outputs": [],
   "source": [
    "fifa_df['total_score']=fifa_df['home_score']+fifa_df['away_score']"
   ]
  },
  {
   "cell_type": "markdown",
   "id": "9b7d48d2",
   "metadata": {},
   "source": [
    "**5.3 Group your data by country, then get the sum of the _'total_score'_ column. From there, you can use `idxmax()` to find the country with the highest _'total_score'_.**"
   ]
  },
  {
   "cell_type": "code",
   "execution_count": 117,
   "id": "682c7a8a",
   "metadata": {},
   "outputs": [],
   "source": [
    "fifa_df['teams'] = fifa_df['home_team'] + fifa_df['away_team']"
   ]
  },
  {
   "cell_type": "code",
   "execution_count": 80,
   "id": "628b6683",
   "metadata": {},
   "outputs": [],
   "source": [
    "fifa_df = fifa_df.assign(teams=fifa_df.teams.str.split(\",\"))"
   ]
  },
  {
   "cell_type": "code",
   "execution_count": 82,
   "id": "007eea26-b3bc-4558-8ed3-9824087fffbb",
   "metadata": {},
   "outputs": [],
   "source": [
    "fifa_df=df.loc[df['tournament'] == 'FIFA World Cup']"
   ]
  },
  {
   "cell_type": "code",
   "execution_count": 102,
   "id": "89e5e84b-fa20-4578-846a-f8af7bc9d55c",
   "metadata": {},
   "outputs": [],
   "source": [
    "score_difference = abs(fifa_df['home_score'] - fifa_df['away_score'])\n",
    "fifa_df['total_score'] = score_difference"
   ]
  },
  {
   "cell_type": "code",
   "execution_count": 104,
   "id": "594fa304-22d3-435f-9a46-333af6e59623",
   "metadata": {},
   "outputs": [],
   "source": [
    "fifa_df['teams'] = fifa_df['home_team'] + ', ' + fifa_df['away_team']"
   ]
  },
  {
   "cell_type": "code",
   "execution_count": 106,
   "id": "2e03b397-a980-4534-b762-9b0e4d973840",
   "metadata": {},
   "outputs": [],
   "source": [
    "fifa_df['home_score_str'] = fifa_df['home_score'].astype(str)\n",
    "fifa_df['away_score_str'] = fifa_df['away_score'].astype(str)\n",
    "fifa_df['combined_score'] = fifa_df['home_score_str'] + '-' + fifa_df['away_score_str']\n",
    "fifa_df = fifa_df.drop(['home_score_str', 'away_score_str'], axis=1)\n"
   ]
  },
  {
   "cell_type": "code",
   "execution_count": 108,
   "id": "c4e9047a-89ee-4e9e-a29d-ff5ce0f16992",
   "metadata": {},
   "outputs": [],
   "source": [
    "fifa_df = fifa_df.assign(teams=fifa_df.teams.str.split(\", \"))\n",
    "fifa_df = fifa_df.assign(combined_score=fifa_df.combined_score.str.split(\"-\"))"
   ]
  },
  {
   "cell_type": "code",
   "execution_count": 110,
   "id": "1d64b151-f89a-461c-94d1-14585068c2a2",
   "metadata": {},
   "outputs": [],
   "source": [
    "fifa_df=fifa_df.explode(['teams', 'combined_score'])"
   ]
  },
  {
   "cell_type": "code",
   "execution_count": 112,
   "id": "7b3cab83-d302-4ae4-a9fd-15483ff2bd8f",
   "metadata": {},
   "outputs": [
    {
     "data": {
      "text/plain": [
       "'Brazil'"
      ]
     },
     "execution_count": 112,
     "metadata": {},
     "output_type": "execute_result"
    }
   ],
   "source": [
    "result=fifa_df.groupby(fifa_df['teams'].str.strip())['combined_score'].apply(lambda x: x.astype(int).sum())\n",
    "result.idxmax()"
   ]
  }
 ],
 "metadata": {
  "kernelspec": {
   "display_name": "Python 3 (ipykernel)",
   "language": "python",
   "name": "python3"
  },
  "language_info": {
   "codemirror_mode": {
    "name": "ipython",
    "version": 3
   },
   "file_extension": ".py",
   "mimetype": "text/x-python",
   "name": "python",
   "nbconvert_exporter": "python",
   "pygments_lexer": "ipython3",
   "version": "3.12.4"
  }
 },
 "nbformat": 4,
 "nbformat_minor": 5
}
